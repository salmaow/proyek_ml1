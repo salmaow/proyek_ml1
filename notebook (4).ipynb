{
  "nbformat": 4,
  "nbformat_minor": 0,
  "metadata": {
    "colab": {
      "provenance": []
    },
    "kernelspec": {
      "name": "python3",
      "display_name": "Python 3"
    },
    "language_info": {
      "name": "python"
    }
  },
  "cells": [
    {
      "cell_type": "markdown",
      "source": [
        "# ML Terapan - Salma Oktarina\n",
        "# Polycystic Ovary Syndrome PCOS\n",
        "Sumber: https://www.kaggle.com/datasets/lucass0s0/polycystic-ovary-syndrome-pcos"
      ],
      "metadata": {
        "id": "dxdDwvAJVkrq"
      }
    },
    {
      "cell_type": "markdown",
      "source": [
        "## Import Libraries"
      ],
      "metadata": {
        "id": "xSXejvnPVgPU"
      }
    },
    {
      "cell_type": "code",
      "execution_count": 1,
      "metadata": {
        "id": "lV1DMaaNVTIx"
      },
      "outputs": [],
      "source": [
        "# Import library\n",
        "import pandas as pd\n",
        "import numpy as np\n",
        "import seaborn as sns\n",
        "import matplotlib.pyplot as plt\n",
        "from sklearn.model_selection import train_test_split, GridSearchCV\n",
        "from sklearn.preprocessing import StandardScaler\n",
        "from sklearn.linear_model import LogisticRegression\n",
        "from sklearn.ensemble import RandomForestClassifier\n",
        "from sklearn.neighbors import KNeighborsClassifier\n",
        "from sklearn.metrics import accuracy_score, precision_score, recall_score, f1_score, confusion_matrix, classification_report, mean_squared_error\n",
        "import zipfile"
      ]
    },
    {
      "cell_type": "markdown",
      "source": [
        "# Loading Data"
      ],
      "metadata": {
        "id": "j6wqHrecDwi1"
      }
    },
    {
      "cell_type": "code",
      "source": [
        "# Mout google drive\n",
        "from google.colab import drive\n",
        "drive.mount('/content/drive')\n",
        "path = '/content/drive/MyDrive/proyek_ml1/'"
      ],
      "metadata": {
        "colab": {
          "base_uri": "https://localhost:8080/"
        },
        "id": "j2uR4yrmI7E7",
        "outputId": "977fbf8f-b99b-4c9c-fa47-e2727406b418"
      },
      "execution_count": 2,
      "outputs": [
        {
          "output_type": "stream",
          "name": "stdout",
          "text": [
            "Mounted at /content/drive\n"
          ]
        }
      ]
    },
    {
      "cell_type": "code",
      "source": [
        "# Load dataset\n",
        "try:\n",
        "    df = pd.read_csv(path + \"pcos_rotterdam_balanceado.csv\")\n",
        "    print(\"Dataset sukses dimuat\")\n",
        "except FileNotFoundError:\n",
        "    print(\"Error: 'pcos_rotterdam_balanceado.csv'. Dataset tidak ditemukan.\")"
      ],
      "metadata": {
        "colab": {
          "base_uri": "https://localhost:8080/"
        },
        "id": "_GFPXtzsGbdl",
        "outputId": "0833e9de-4cfb-4f65-99dd-98cb8b31ae9f"
      },
      "execution_count": 3,
      "outputs": [
        {
          "output_type": "stream",
          "name": "stdout",
          "text": [
            "Dataset sukses dimuat\n"
          ]
        }
      ]
    },
    {
      "cell_type": "markdown",
      "source": [
        "# Data Understanding"
      ],
      "metadata": {
        "id": "JldvMtdKHTVS"
      }
    },
    {
      "cell_type": "code",
      "source": [
        "# Melihat 5 baris pertama data\n",
        "print(\"Data 5 Baris Pertama\")\n",
        "df.head()"
      ],
      "metadata": {
        "colab": {
          "base_uri": "https://localhost:8080/",
          "height": 223
        },
        "id": "aT9EnS8r5rPt",
        "outputId": "07549876-bcd0-420d-b648-75db6b023904"
      },
      "execution_count": 4,
      "outputs": [
        {
          "output_type": "stream",
          "name": "stdout",
          "text": [
            "Data 5 Baris Pertama\n"
          ]
        },
        {
          "output_type": "execute_result",
          "data": {
            "text/plain": [
              "   Age   BMI  Menstrual_Irregularity  Testosterone_Level(ng/dL)  \\\n",
              "0   29  21.2                       0                       46.1   \n",
              "1   20  20.5                       0                       59.4   \n",
              "2   23  23.1                       0                       69.3   \n",
              "3   19  32.7                       1                       77.7   \n",
              "4   19  25.9                       0                       49.4   \n",
              "\n",
              "   Antral_Follicle_Count  PCOS_Diagnosis  \n",
              "0                      9               0  \n",
              "1                      6               0  \n",
              "2                     10               0  \n",
              "3                     37               1  \n",
              "4                      5               0  "
            ],
            "text/html": [
              "\n",
              "  <div id=\"df-89ebb0b3-2a2c-43ba-b60a-ec2f0e0af4d8\" class=\"colab-df-container\">\n",
              "    <div>\n",
              "<style scoped>\n",
              "    .dataframe tbody tr th:only-of-type {\n",
              "        vertical-align: middle;\n",
              "    }\n",
              "\n",
              "    .dataframe tbody tr th {\n",
              "        vertical-align: top;\n",
              "    }\n",
              "\n",
              "    .dataframe thead th {\n",
              "        text-align: right;\n",
              "    }\n",
              "</style>\n",
              "<table border=\"1\" class=\"dataframe\">\n",
              "  <thead>\n",
              "    <tr style=\"text-align: right;\">\n",
              "      <th></th>\n",
              "      <th>Age</th>\n",
              "      <th>BMI</th>\n",
              "      <th>Menstrual_Irregularity</th>\n",
              "      <th>Testosterone_Level(ng/dL)</th>\n",
              "      <th>Antral_Follicle_Count</th>\n",
              "      <th>PCOS_Diagnosis</th>\n",
              "    </tr>\n",
              "  </thead>\n",
              "  <tbody>\n",
              "    <tr>\n",
              "      <th>0</th>\n",
              "      <td>29</td>\n",
              "      <td>21.2</td>\n",
              "      <td>0</td>\n",
              "      <td>46.1</td>\n",
              "      <td>9</td>\n",
              "      <td>0</td>\n",
              "    </tr>\n",
              "    <tr>\n",
              "      <th>1</th>\n",
              "      <td>20</td>\n",
              "      <td>20.5</td>\n",
              "      <td>0</td>\n",
              "      <td>59.4</td>\n",
              "      <td>6</td>\n",
              "      <td>0</td>\n",
              "    </tr>\n",
              "    <tr>\n",
              "      <th>2</th>\n",
              "      <td>23</td>\n",
              "      <td>23.1</td>\n",
              "      <td>0</td>\n",
              "      <td>69.3</td>\n",
              "      <td>10</td>\n",
              "      <td>0</td>\n",
              "    </tr>\n",
              "    <tr>\n",
              "      <th>3</th>\n",
              "      <td>19</td>\n",
              "      <td>32.7</td>\n",
              "      <td>1</td>\n",
              "      <td>77.7</td>\n",
              "      <td>37</td>\n",
              "      <td>1</td>\n",
              "    </tr>\n",
              "    <tr>\n",
              "      <th>4</th>\n",
              "      <td>19</td>\n",
              "      <td>25.9</td>\n",
              "      <td>0</td>\n",
              "      <td>49.4</td>\n",
              "      <td>5</td>\n",
              "      <td>0</td>\n",
              "    </tr>\n",
              "  </tbody>\n",
              "</table>\n",
              "</div>\n",
              "    <div class=\"colab-df-buttons\">\n",
              "\n",
              "  <div class=\"colab-df-container\">\n",
              "    <button class=\"colab-df-convert\" onclick=\"convertToInteractive('df-89ebb0b3-2a2c-43ba-b60a-ec2f0e0af4d8')\"\n",
              "            title=\"Convert this dataframe to an interactive table.\"\n",
              "            style=\"display:none;\">\n",
              "\n",
              "  <svg xmlns=\"http://www.w3.org/2000/svg\" height=\"24px\" viewBox=\"0 -960 960 960\">\n",
              "    <path d=\"M120-120v-720h720v720H120Zm60-500h600v-160H180v160Zm220 220h160v-160H400v160Zm0 220h160v-160H400v160ZM180-400h160v-160H180v160Zm440 0h160v-160H620v160ZM180-180h160v-160H180v160Zm440 0h160v-160H620v160Z\"/>\n",
              "  </svg>\n",
              "    </button>\n",
              "\n",
              "  <style>\n",
              "    .colab-df-container {\n",
              "      display:flex;\n",
              "      gap: 12px;\n",
              "    }\n",
              "\n",
              "    .colab-df-convert {\n",
              "      background-color: #E8F0FE;\n",
              "      border: none;\n",
              "      border-radius: 50%;\n",
              "      cursor: pointer;\n",
              "      display: none;\n",
              "      fill: #1967D2;\n",
              "      height: 32px;\n",
              "      padding: 0 0 0 0;\n",
              "      width: 32px;\n",
              "    }\n",
              "\n",
              "    .colab-df-convert:hover {\n",
              "      background-color: #E2EBFA;\n",
              "      box-shadow: 0px 1px 2px rgba(60, 64, 67, 0.3), 0px 1px 3px 1px rgba(60, 64, 67, 0.15);\n",
              "      fill: #174EA6;\n",
              "    }\n",
              "\n",
              "    .colab-df-buttons div {\n",
              "      margin-bottom: 4px;\n",
              "    }\n",
              "\n",
              "    [theme=dark] .colab-df-convert {\n",
              "      background-color: #3B4455;\n",
              "      fill: #D2E3FC;\n",
              "    }\n",
              "\n",
              "    [theme=dark] .colab-df-convert:hover {\n",
              "      background-color: #434B5C;\n",
              "      box-shadow: 0px 1px 3px 1px rgba(0, 0, 0, 0.15);\n",
              "      filter: drop-shadow(0px 1px 2px rgba(0, 0, 0, 0.3));\n",
              "      fill: #FFFFFF;\n",
              "    }\n",
              "  </style>\n",
              "\n",
              "    <script>\n",
              "      const buttonEl =\n",
              "        document.querySelector('#df-89ebb0b3-2a2c-43ba-b60a-ec2f0e0af4d8 button.colab-df-convert');\n",
              "      buttonEl.style.display =\n",
              "        google.colab.kernel.accessAllowed ? 'block' : 'none';\n",
              "\n",
              "      async function convertToInteractive(key) {\n",
              "        const element = document.querySelector('#df-89ebb0b3-2a2c-43ba-b60a-ec2f0e0af4d8');\n",
              "        const dataTable =\n",
              "          await google.colab.kernel.invokeFunction('convertToInteractive',\n",
              "                                                    [key], {});\n",
              "        if (!dataTable) return;\n",
              "\n",
              "        const docLinkHtml = 'Like what you see? Visit the ' +\n",
              "          '<a target=\"_blank\" href=https://colab.research.google.com/notebooks/data_table.ipynb>data table notebook</a>'\n",
              "          + ' to learn more about interactive tables.';\n",
              "        element.innerHTML = '';\n",
              "        dataTable['output_type'] = 'display_data';\n",
              "        await google.colab.output.renderOutput(dataTable, element);\n",
              "        const docLink = document.createElement('div');\n",
              "        docLink.innerHTML = docLinkHtml;\n",
              "        element.appendChild(docLink);\n",
              "      }\n",
              "    </script>\n",
              "  </div>\n",
              "\n",
              "\n",
              "    <div id=\"df-58122dca-6fce-4959-8950-7dc0950216a0\">\n",
              "      <button class=\"colab-df-quickchart\" onclick=\"quickchart('df-58122dca-6fce-4959-8950-7dc0950216a0')\"\n",
              "                title=\"Suggest charts\"\n",
              "                style=\"display:none;\">\n",
              "\n",
              "<svg xmlns=\"http://www.w3.org/2000/svg\" height=\"24px\"viewBox=\"0 0 24 24\"\n",
              "     width=\"24px\">\n",
              "    <g>\n",
              "        <path d=\"M19 3H5c-1.1 0-2 .9-2 2v14c0 1.1.9 2 2 2h14c1.1 0 2-.9 2-2V5c0-1.1-.9-2-2-2zM9 17H7v-7h2v7zm4 0h-2V7h2v10zm4 0h-2v-4h2v4z\"/>\n",
              "    </g>\n",
              "</svg>\n",
              "      </button>\n",
              "\n",
              "<style>\n",
              "  .colab-df-quickchart {\n",
              "      --bg-color: #E8F0FE;\n",
              "      --fill-color: #1967D2;\n",
              "      --hover-bg-color: #E2EBFA;\n",
              "      --hover-fill-color: #174EA6;\n",
              "      --disabled-fill-color: #AAA;\n",
              "      --disabled-bg-color: #DDD;\n",
              "  }\n",
              "\n",
              "  [theme=dark] .colab-df-quickchart {\n",
              "      --bg-color: #3B4455;\n",
              "      --fill-color: #D2E3FC;\n",
              "      --hover-bg-color: #434B5C;\n",
              "      --hover-fill-color: #FFFFFF;\n",
              "      --disabled-bg-color: #3B4455;\n",
              "      --disabled-fill-color: #666;\n",
              "  }\n",
              "\n",
              "  .colab-df-quickchart {\n",
              "    background-color: var(--bg-color);\n",
              "    border: none;\n",
              "    border-radius: 50%;\n",
              "    cursor: pointer;\n",
              "    display: none;\n",
              "    fill: var(--fill-color);\n",
              "    height: 32px;\n",
              "    padding: 0;\n",
              "    width: 32px;\n",
              "  }\n",
              "\n",
              "  .colab-df-quickchart:hover {\n",
              "    background-color: var(--hover-bg-color);\n",
              "    box-shadow: 0 1px 2px rgba(60, 64, 67, 0.3), 0 1px 3px 1px rgba(60, 64, 67, 0.15);\n",
              "    fill: var(--button-hover-fill-color);\n",
              "  }\n",
              "\n",
              "  .colab-df-quickchart-complete:disabled,\n",
              "  .colab-df-quickchart-complete:disabled:hover {\n",
              "    background-color: var(--disabled-bg-color);\n",
              "    fill: var(--disabled-fill-color);\n",
              "    box-shadow: none;\n",
              "  }\n",
              "\n",
              "  .colab-df-spinner {\n",
              "    border: 2px solid var(--fill-color);\n",
              "    border-color: transparent;\n",
              "    border-bottom-color: var(--fill-color);\n",
              "    animation:\n",
              "      spin 1s steps(1) infinite;\n",
              "  }\n",
              "\n",
              "  @keyframes spin {\n",
              "    0% {\n",
              "      border-color: transparent;\n",
              "      border-bottom-color: var(--fill-color);\n",
              "      border-left-color: var(--fill-color);\n",
              "    }\n",
              "    20% {\n",
              "      border-color: transparent;\n",
              "      border-left-color: var(--fill-color);\n",
              "      border-top-color: var(--fill-color);\n",
              "    }\n",
              "    30% {\n",
              "      border-color: transparent;\n",
              "      border-left-color: var(--fill-color);\n",
              "      border-top-color: var(--fill-color);\n",
              "      border-right-color: var(--fill-color);\n",
              "    }\n",
              "    40% {\n",
              "      border-color: transparent;\n",
              "      border-right-color: var(--fill-color);\n",
              "      border-top-color: var(--fill-color);\n",
              "    }\n",
              "    60% {\n",
              "      border-color: transparent;\n",
              "      border-right-color: var(--fill-color);\n",
              "    }\n",
              "    80% {\n",
              "      border-color: transparent;\n",
              "      border-right-color: var(--fill-color);\n",
              "      border-bottom-color: var(--fill-color);\n",
              "    }\n",
              "    90% {\n",
              "      border-color: transparent;\n",
              "      border-bottom-color: var(--fill-color);\n",
              "    }\n",
              "  }\n",
              "</style>\n",
              "\n",
              "      <script>\n",
              "        async function quickchart(key) {\n",
              "          const quickchartButtonEl =\n",
              "            document.querySelector('#' + key + ' button');\n",
              "          quickchartButtonEl.disabled = true;  // To prevent multiple clicks.\n",
              "          quickchartButtonEl.classList.add('colab-df-spinner');\n",
              "          try {\n",
              "            const charts = await google.colab.kernel.invokeFunction(\n",
              "                'suggestCharts', [key], {});\n",
              "          } catch (error) {\n",
              "            console.error('Error during call to suggestCharts:', error);\n",
              "          }\n",
              "          quickchartButtonEl.classList.remove('colab-df-spinner');\n",
              "          quickchartButtonEl.classList.add('colab-df-quickchart-complete');\n",
              "        }\n",
              "        (() => {\n",
              "          let quickchartButtonEl =\n",
              "            document.querySelector('#df-58122dca-6fce-4959-8950-7dc0950216a0 button');\n",
              "          quickchartButtonEl.style.display =\n",
              "            google.colab.kernel.accessAllowed ? 'block' : 'none';\n",
              "        })();\n",
              "      </script>\n",
              "    </div>\n",
              "\n",
              "    </div>\n",
              "  </div>\n"
            ],
            "application/vnd.google.colaboratory.intrinsic+json": {
              "type": "dataframe",
              "variable_name": "df",
              "summary": "{\n  \"name\": \"df\",\n  \"rows\": 3000,\n  \"fields\": [\n    {\n      \"column\": \"Age\",\n      \"properties\": {\n        \"dtype\": \"number\",\n        \"std\": 7,\n        \"min\": 18,\n        \"max\": 44,\n        \"num_unique_values\": 27,\n        \"samples\": [\n          40,\n          27,\n          18\n        ],\n        \"semantic_type\": \"\",\n        \"description\": \"\"\n      }\n    },\n    {\n      \"column\": \"BMI\",\n      \"properties\": {\n        \"dtype\": \"number\",\n        \"std\": 4.510006362057067,\n        \"min\": 8.5,\n        \"max\": 44.7,\n        \"num_unique_values\": 264,\n        \"samples\": [\n          21.3,\n          14.8,\n          17.2\n        ],\n        \"semantic_type\": \"\",\n        \"description\": \"\"\n      }\n    },\n    {\n      \"column\": \"Menstrual_Irregularity\",\n      \"properties\": {\n        \"dtype\": \"number\",\n        \"std\": 0,\n        \"min\": 0,\n        \"max\": 1,\n        \"num_unique_values\": 2,\n        \"samples\": [\n          1,\n          0\n        ],\n        \"semantic_type\": \"\",\n        \"description\": \"\"\n      }\n    },\n    {\n      \"column\": \"Testosterone_Level(ng/dL)\",\n      \"properties\": {\n        \"dtype\": \"number\",\n        \"std\": 18.171066292661212,\n        \"min\": 20.5,\n        \"max\": 136.4,\n        \"num_unique_values\": 746,\n        \"samples\": [\n          98.9,\n          39.2\n        ],\n        \"semantic_type\": \"\",\n        \"description\": \"\"\n      }\n    },\n    {\n      \"column\": \"Antral_Follicle_Count\",\n      \"properties\": {\n        \"dtype\": \"number\",\n        \"std\": 8,\n        \"min\": 3,\n        \"max\": 39,\n        \"num_unique_values\": 37,\n        \"samples\": [\n          24,\n          19\n        ],\n        \"semantic_type\": \"\",\n        \"description\": \"\"\n      }\n    },\n    {\n      \"column\": \"PCOS_Diagnosis\",\n      \"properties\": {\n        \"dtype\": \"number\",\n        \"std\": 0,\n        \"min\": 0,\n        \"max\": 1,\n        \"num_unique_values\": 2,\n        \"samples\": [\n          1,\n          0\n        ],\n        \"semantic_type\": \"\",\n        \"description\": \"\"\n      }\n    }\n  ]\n}"
            }
          },
          "metadata": {},
          "execution_count": 4
        }
      ]
    },
    {
      "cell_type": "markdown",
      "source": [],
      "metadata": {
        "id": "g27WvkUoKT17"
      }
    },
    {
      "cell_type": "code",
      "source": [
        "# Informasi dataset\n",
        "print(\"Informasi Dataset:\")\n",
        "print(df.info())"
      ],
      "metadata": {
        "colab": {
          "base_uri": "https://localhost:8080/"
        },
        "id": "qBaS-cciHvzO",
        "outputId": "3033df75-9f7b-447b-baeb-5bf6e95feb09"
      },
      "execution_count": 5,
      "outputs": [
        {
          "output_type": "stream",
          "name": "stdout",
          "text": [
            "Informasi Dataset:\n",
            "<class 'pandas.core.frame.DataFrame'>\n",
            "RangeIndex: 3000 entries, 0 to 2999\n",
            "Data columns (total 6 columns):\n",
            " #   Column                     Non-Null Count  Dtype  \n",
            "---  ------                     --------------  -----  \n",
            " 0   Age                        3000 non-null   int64  \n",
            " 1   BMI                        3000 non-null   float64\n",
            " 2   Menstrual_Irregularity     3000 non-null   int64  \n",
            " 3   Testosterone_Level(ng/dL)  3000 non-null   float64\n",
            " 4   Antral_Follicle_Count      3000 non-null   int64  \n",
            " 5   PCOS_Diagnosis             3000 non-null   int64  \n",
            "dtypes: float64(2), int64(4)\n",
            "memory usage: 140.8 KB\n",
            "None\n"
          ]
        }
      ]
    },
    {
      "cell_type": "markdown",
      "source": [
        "- Dataset berjumlah 3000 entri data.\n",
        "- Terdapat 5 kolom fitur tanpa nilai yang hilang, ini menunjukkan data bersih dan siap digunakan untuk analisis lebih lanjut.\n",
        "- Termasuk data kuantitatif, karena kolom bertipe numerik (int64 dan float64).\n",
        "- Mencakup faktor medis seperti umur, indeks massa tubuh, ketidakteraturan siklus menstruasi, kadar hormon testosteron (ng/dL), dan jumlah folikel antral berdasarkan USG, yang digunakan untuk memprediksi label target PCOS_Diagnosis (indikasi PCOS).\n"
      ],
      "metadata": {
        "id": "f1SwAbYWH9Hg"
      }
    },
    {
      "cell_type": "code",
      "source": [
        "# Deskirpsi statistik\n",
        "print(\"Deskripsi Statistik:\")\n",
        "df.describe()"
      ],
      "metadata": {
        "colab": {
          "base_uri": "https://localhost:8080/",
          "height": 317
        },
        "id": "Zex7wNCDJkTj",
        "outputId": "8d009c12-ea36-4b48-9e97-79fc0fd6c9f4"
      },
      "execution_count": 6,
      "outputs": [
        {
          "output_type": "stream",
          "name": "stdout",
          "text": [
            "Deskripsi Statistik:\n"
          ]
        },
        {
          "output_type": "execute_result",
          "data": {
            "text/plain": [
              "               Age          BMI  Menstrual_Irregularity  \\\n",
              "count  3000.000000  3000.000000             3000.000000   \n",
              "mean     30.052667    23.646000                0.289333   \n",
              "std       7.549982     4.510006                0.453529   \n",
              "min      18.000000     8.500000                0.000000   \n",
              "25%      24.000000    20.800000                0.000000   \n",
              "50%      30.000000    23.400000                0.000000   \n",
              "75%      36.000000    26.300000                1.000000   \n",
              "max      44.000000    44.700000                1.000000   \n",
              "\n",
              "       Testosterone_Level(ng/dL)  Antral_Follicle_Count  PCOS_Diagnosis  \n",
              "count                3000.000000            3000.000000     3000.000000  \n",
              "mean                   57.228267              10.732333        0.200000  \n",
              "std                    18.171066               8.471478        0.400067  \n",
              "min                    20.500000               3.000000        0.000000  \n",
              "25%                    45.200000               5.000000        0.000000  \n",
              "50%                    53.200000               8.000000        0.000000  \n",
              "75%                    64.100000              11.000000        0.000000  \n",
              "max                   136.400000              39.000000        1.000000  "
            ],
            "text/html": [
              "\n",
              "  <div id=\"df-906ae2a4-da41-47b4-aac6-a832a841c474\" class=\"colab-df-container\">\n",
              "    <div>\n",
              "<style scoped>\n",
              "    .dataframe tbody tr th:only-of-type {\n",
              "        vertical-align: middle;\n",
              "    }\n",
              "\n",
              "    .dataframe tbody tr th {\n",
              "        vertical-align: top;\n",
              "    }\n",
              "\n",
              "    .dataframe thead th {\n",
              "        text-align: right;\n",
              "    }\n",
              "</style>\n",
              "<table border=\"1\" class=\"dataframe\">\n",
              "  <thead>\n",
              "    <tr style=\"text-align: right;\">\n",
              "      <th></th>\n",
              "      <th>Age</th>\n",
              "      <th>BMI</th>\n",
              "      <th>Menstrual_Irregularity</th>\n",
              "      <th>Testosterone_Level(ng/dL)</th>\n",
              "      <th>Antral_Follicle_Count</th>\n",
              "      <th>PCOS_Diagnosis</th>\n",
              "    </tr>\n",
              "  </thead>\n",
              "  <tbody>\n",
              "    <tr>\n",
              "      <th>count</th>\n",
              "      <td>3000.000000</td>\n",
              "      <td>3000.000000</td>\n",
              "      <td>3000.000000</td>\n",
              "      <td>3000.000000</td>\n",
              "      <td>3000.000000</td>\n",
              "      <td>3000.000000</td>\n",
              "    </tr>\n",
              "    <tr>\n",
              "      <th>mean</th>\n",
              "      <td>30.052667</td>\n",
              "      <td>23.646000</td>\n",
              "      <td>0.289333</td>\n",
              "      <td>57.228267</td>\n",
              "      <td>10.732333</td>\n",
              "      <td>0.200000</td>\n",
              "    </tr>\n",
              "    <tr>\n",
              "      <th>std</th>\n",
              "      <td>7.549982</td>\n",
              "      <td>4.510006</td>\n",
              "      <td>0.453529</td>\n",
              "      <td>18.171066</td>\n",
              "      <td>8.471478</td>\n",
              "      <td>0.400067</td>\n",
              "    </tr>\n",
              "    <tr>\n",
              "      <th>min</th>\n",
              "      <td>18.000000</td>\n",
              "      <td>8.500000</td>\n",
              "      <td>0.000000</td>\n",
              "      <td>20.500000</td>\n",
              "      <td>3.000000</td>\n",
              "      <td>0.000000</td>\n",
              "    </tr>\n",
              "    <tr>\n",
              "      <th>25%</th>\n",
              "      <td>24.000000</td>\n",
              "      <td>20.800000</td>\n",
              "      <td>0.000000</td>\n",
              "      <td>45.200000</td>\n",
              "      <td>5.000000</td>\n",
              "      <td>0.000000</td>\n",
              "    </tr>\n",
              "    <tr>\n",
              "      <th>50%</th>\n",
              "      <td>30.000000</td>\n",
              "      <td>23.400000</td>\n",
              "      <td>0.000000</td>\n",
              "      <td>53.200000</td>\n",
              "      <td>8.000000</td>\n",
              "      <td>0.000000</td>\n",
              "    </tr>\n",
              "    <tr>\n",
              "      <th>75%</th>\n",
              "      <td>36.000000</td>\n",
              "      <td>26.300000</td>\n",
              "      <td>1.000000</td>\n",
              "      <td>64.100000</td>\n",
              "      <td>11.000000</td>\n",
              "      <td>0.000000</td>\n",
              "    </tr>\n",
              "    <tr>\n",
              "      <th>max</th>\n",
              "      <td>44.000000</td>\n",
              "      <td>44.700000</td>\n",
              "      <td>1.000000</td>\n",
              "      <td>136.400000</td>\n",
              "      <td>39.000000</td>\n",
              "      <td>1.000000</td>\n",
              "    </tr>\n",
              "  </tbody>\n",
              "</table>\n",
              "</div>\n",
              "    <div class=\"colab-df-buttons\">\n",
              "\n",
              "  <div class=\"colab-df-container\">\n",
              "    <button class=\"colab-df-convert\" onclick=\"convertToInteractive('df-906ae2a4-da41-47b4-aac6-a832a841c474')\"\n",
              "            title=\"Convert this dataframe to an interactive table.\"\n",
              "            style=\"display:none;\">\n",
              "\n",
              "  <svg xmlns=\"http://www.w3.org/2000/svg\" height=\"24px\" viewBox=\"0 -960 960 960\">\n",
              "    <path d=\"M120-120v-720h720v720H120Zm60-500h600v-160H180v160Zm220 220h160v-160H400v160Zm0 220h160v-160H400v160ZM180-400h160v-160H180v160Zm440 0h160v-160H620v160ZM180-180h160v-160H180v160Zm440 0h160v-160H620v160Z\"/>\n",
              "  </svg>\n",
              "    </button>\n",
              "\n",
              "  <style>\n",
              "    .colab-df-container {\n",
              "      display:flex;\n",
              "      gap: 12px;\n",
              "    }\n",
              "\n",
              "    .colab-df-convert {\n",
              "      background-color: #E8F0FE;\n",
              "      border: none;\n",
              "      border-radius: 50%;\n",
              "      cursor: pointer;\n",
              "      display: none;\n",
              "      fill: #1967D2;\n",
              "      height: 32px;\n",
              "      padding: 0 0 0 0;\n",
              "      width: 32px;\n",
              "    }\n",
              "\n",
              "    .colab-df-convert:hover {\n",
              "      background-color: #E2EBFA;\n",
              "      box-shadow: 0px 1px 2px rgba(60, 64, 67, 0.3), 0px 1px 3px 1px rgba(60, 64, 67, 0.15);\n",
              "      fill: #174EA6;\n",
              "    }\n",
              "\n",
              "    .colab-df-buttons div {\n",
              "      margin-bottom: 4px;\n",
              "    }\n",
              "\n",
              "    [theme=dark] .colab-df-convert {\n",
              "      background-color: #3B4455;\n",
              "      fill: #D2E3FC;\n",
              "    }\n",
              "\n",
              "    [theme=dark] .colab-df-convert:hover {\n",
              "      background-color: #434B5C;\n",
              "      box-shadow: 0px 1px 3px 1px rgba(0, 0, 0, 0.15);\n",
              "      filter: drop-shadow(0px 1px 2px rgba(0, 0, 0, 0.3));\n",
              "      fill: #FFFFFF;\n",
              "    }\n",
              "  </style>\n",
              "\n",
              "    <script>\n",
              "      const buttonEl =\n",
              "        document.querySelector('#df-906ae2a4-da41-47b4-aac6-a832a841c474 button.colab-df-convert');\n",
              "      buttonEl.style.display =\n",
              "        google.colab.kernel.accessAllowed ? 'block' : 'none';\n",
              "\n",
              "      async function convertToInteractive(key) {\n",
              "        const element = document.querySelector('#df-906ae2a4-da41-47b4-aac6-a832a841c474');\n",
              "        const dataTable =\n",
              "          await google.colab.kernel.invokeFunction('convertToInteractive',\n",
              "                                                    [key], {});\n",
              "        if (!dataTable) return;\n",
              "\n",
              "        const docLinkHtml = 'Like what you see? Visit the ' +\n",
              "          '<a target=\"_blank\" href=https://colab.research.google.com/notebooks/data_table.ipynb>data table notebook</a>'\n",
              "          + ' to learn more about interactive tables.';\n",
              "        element.innerHTML = '';\n",
              "        dataTable['output_type'] = 'display_data';\n",
              "        await google.colab.output.renderOutput(dataTable, element);\n",
              "        const docLink = document.createElement('div');\n",
              "        docLink.innerHTML = docLinkHtml;\n",
              "        element.appendChild(docLink);\n",
              "      }\n",
              "    </script>\n",
              "  </div>\n",
              "\n",
              "\n",
              "    <div id=\"df-7e34cd86-660d-427c-950d-bf68bdc28540\">\n",
              "      <button class=\"colab-df-quickchart\" onclick=\"quickchart('df-7e34cd86-660d-427c-950d-bf68bdc28540')\"\n",
              "                title=\"Suggest charts\"\n",
              "                style=\"display:none;\">\n",
              "\n",
              "<svg xmlns=\"http://www.w3.org/2000/svg\" height=\"24px\"viewBox=\"0 0 24 24\"\n",
              "     width=\"24px\">\n",
              "    <g>\n",
              "        <path d=\"M19 3H5c-1.1 0-2 .9-2 2v14c0 1.1.9 2 2 2h14c1.1 0 2-.9 2-2V5c0-1.1-.9-2-2-2zM9 17H7v-7h2v7zm4 0h-2V7h2v10zm4 0h-2v-4h2v4z\"/>\n",
              "    </g>\n",
              "</svg>\n",
              "      </button>\n",
              "\n",
              "<style>\n",
              "  .colab-df-quickchart {\n",
              "      --bg-color: #E8F0FE;\n",
              "      --fill-color: #1967D2;\n",
              "      --hover-bg-color: #E2EBFA;\n",
              "      --hover-fill-color: #174EA6;\n",
              "      --disabled-fill-color: #AAA;\n",
              "      --disabled-bg-color: #DDD;\n",
              "  }\n",
              "\n",
              "  [theme=dark] .colab-df-quickchart {\n",
              "      --bg-color: #3B4455;\n",
              "      --fill-color: #D2E3FC;\n",
              "      --hover-bg-color: #434B5C;\n",
              "      --hover-fill-color: #FFFFFF;\n",
              "      --disabled-bg-color: #3B4455;\n",
              "      --disabled-fill-color: #666;\n",
              "  }\n",
              "\n",
              "  .colab-df-quickchart {\n",
              "    background-color: var(--bg-color);\n",
              "    border: none;\n",
              "    border-radius: 50%;\n",
              "    cursor: pointer;\n",
              "    display: none;\n",
              "    fill: var(--fill-color);\n",
              "    height: 32px;\n",
              "    padding: 0;\n",
              "    width: 32px;\n",
              "  }\n",
              "\n",
              "  .colab-df-quickchart:hover {\n",
              "    background-color: var(--hover-bg-color);\n",
              "    box-shadow: 0 1px 2px rgba(60, 64, 67, 0.3), 0 1px 3px 1px rgba(60, 64, 67, 0.15);\n",
              "    fill: var(--button-hover-fill-color);\n",
              "  }\n",
              "\n",
              "  .colab-df-quickchart-complete:disabled,\n",
              "  .colab-df-quickchart-complete:disabled:hover {\n",
              "    background-color: var(--disabled-bg-color);\n",
              "    fill: var(--disabled-fill-color);\n",
              "    box-shadow: none;\n",
              "  }\n",
              "\n",
              "  .colab-df-spinner {\n",
              "    border: 2px solid var(--fill-color);\n",
              "    border-color: transparent;\n",
              "    border-bottom-color: var(--fill-color);\n",
              "    animation:\n",
              "      spin 1s steps(1) infinite;\n",
              "  }\n",
              "\n",
              "  @keyframes spin {\n",
              "    0% {\n",
              "      border-color: transparent;\n",
              "      border-bottom-color: var(--fill-color);\n",
              "      border-left-color: var(--fill-color);\n",
              "    }\n",
              "    20% {\n",
              "      border-color: transparent;\n",
              "      border-left-color: var(--fill-color);\n",
              "      border-top-color: var(--fill-color);\n",
              "    }\n",
              "    30% {\n",
              "      border-color: transparent;\n",
              "      border-left-color: var(--fill-color);\n",
              "      border-top-color: var(--fill-color);\n",
              "      border-right-color: var(--fill-color);\n",
              "    }\n",
              "    40% {\n",
              "      border-color: transparent;\n",
              "      border-right-color: var(--fill-color);\n",
              "      border-top-color: var(--fill-color);\n",
              "    }\n",
              "    60% {\n",
              "      border-color: transparent;\n",
              "      border-right-color: var(--fill-color);\n",
              "    }\n",
              "    80% {\n",
              "      border-color: transparent;\n",
              "      border-right-color: var(--fill-color);\n",
              "      border-bottom-color: var(--fill-color);\n",
              "    }\n",
              "    90% {\n",
              "      border-color: transparent;\n",
              "      border-bottom-color: var(--fill-color);\n",
              "    }\n",
              "  }\n",
              "</style>\n",
              "\n",
              "      <script>\n",
              "        async function quickchart(key) {\n",
              "          const quickchartButtonEl =\n",
              "            document.querySelector('#' + key + ' button');\n",
              "          quickchartButtonEl.disabled = true;  // To prevent multiple clicks.\n",
              "          quickchartButtonEl.classList.add('colab-df-spinner');\n",
              "          try {\n",
              "            const charts = await google.colab.kernel.invokeFunction(\n",
              "                'suggestCharts', [key], {});\n",
              "          } catch (error) {\n",
              "            console.error('Error during call to suggestCharts:', error);\n",
              "          }\n",
              "          quickchartButtonEl.classList.remove('colab-df-spinner');\n",
              "          quickchartButtonEl.classList.add('colab-df-quickchart-complete');\n",
              "        }\n",
              "        (() => {\n",
              "          let quickchartButtonEl =\n",
              "            document.querySelector('#df-7e34cd86-660d-427c-950d-bf68bdc28540 button');\n",
              "          quickchartButtonEl.style.display =\n",
              "            google.colab.kernel.accessAllowed ? 'block' : 'none';\n",
              "        })();\n",
              "      </script>\n",
              "    </div>\n",
              "\n",
              "    </div>\n",
              "  </div>\n"
            ],
            "application/vnd.google.colaboratory.intrinsic+json": {
              "type": "dataframe",
              "summary": "{\n  \"name\": \"df\",\n  \"rows\": 8,\n  \"fields\": [\n    {\n      \"column\": \"Age\",\n      \"properties\": {\n        \"dtype\": \"number\",\n        \"std\": 1051.1420002630014,\n        \"min\": 7.5499819181600465,\n        \"max\": 3000.0,\n        \"num_unique_values\": 8,\n        \"samples\": [\n          30.052666666666667,\n          30.0,\n          3000.0\n        ],\n        \"semantic_type\": \"\",\n        \"description\": \"\"\n      }\n    },\n    {\n      \"column\": \"BMI\",\n      \"properties\": {\n        \"dtype\": \"number\",\n        \"std\": 1053.0599744057665,\n        \"min\": 4.510006362057067,\n        \"max\": 3000.0,\n        \"num_unique_values\": 8,\n        \"samples\": [\n          23.646,\n          23.4,\n          3000.0\n        ],\n        \"semantic_type\": \"\",\n        \"description\": \"\"\n      }\n    },\n    {\n      \"column\": \"Menstrual_Irregularity\",\n      \"properties\": {\n        \"dtype\": \"number\",\n        \"std\": 1060.5217181450066,\n        \"min\": 0.0,\n        \"max\": 3000.0,\n        \"num_unique_values\": 5,\n        \"samples\": [\n          0.28933333333333333,\n          1.0,\n          0.4535285197886208\n        ],\n        \"semantic_type\": \"\",\n        \"description\": \"\"\n      }\n    },\n    {\n      \"column\": \"Testosterone_Level(ng/dL)\",\n      \"properties\": {\n        \"dtype\": \"number\",\n        \"std\": 1041.3610426657474,\n        \"min\": 18.171066292661212,\n        \"max\": 3000.0,\n        \"num_unique_values\": 8,\n        \"samples\": [\n          57.22826666666666,\n          53.2,\n          3000.0\n        ],\n        \"semantic_type\": \"\",\n        \"description\": \"\"\n      }\n    },\n    {\n      \"column\": \"Antral_Follicle_Count\",\n      \"properties\": {\n        \"dtype\": \"number\",\n        \"std\": 1056.4168974868628,\n        \"min\": 3.0,\n        \"max\": 3000.0,\n        \"num_unique_values\": 8,\n        \"samples\": [\n          10.732333333333333,\n          8.0,\n          3000.0\n        ],\n        \"semantic_type\": \"\",\n        \"description\": \"\"\n      }\n    },\n    {\n      \"column\": \"PCOS_Diagnosis\",\n      \"properties\": {\n        \"dtype\": \"number\",\n        \"std\": 1060.579412397782,\n        \"min\": 0.0,\n        \"max\": 3000.0,\n        \"num_unique_values\": 5,\n        \"samples\": [\n          0.2,\n          1.0,\n          0.4000666833379705\n        ],\n        \"semantic_type\": \"\",\n        \"description\": \"\"\n      }\n    }\n  ]\n}"
            }
          },
          "metadata": {},
          "execution_count": 6
        }
      ]
    },
    {
      "cell_type": "markdown",
      "source": [
        "- Rata-rata usia pasien berkisar 30 tahun dan nilai maksimumnya 44 tahun.\n",
        "- Indek massa tubuh normalnya berkisar 18,5 hingga 24,9. Dilihat dari data nilai terkecilnya 8,5 artinya termasuk kurus dan nilai terbesarnya 44,7 termasuk kategori obesitas.\n",
        "- Kadar normal tertosteron berkisar 15—70 nanogram per desiliter darah. Bisa dilihat pada dataset kadar terkecil yaitu 20,5 dan kadar terbesar 136,4.\n",
        "- Jumlah antral folikel normalnya seitar 9 hingga 19 buah. Dan pada dataset terkecil 3 dan terbesar 39.\n",
        "- Untuk Mestrual Irregularity dan PCOS Diagnosis nilai 0 berarti tidak lancar dan tidak terindikasi, nilai 1 berarti lancar dan terindikasi."
      ],
      "metadata": {
        "id": "AJdSOBkbJonc"
      }
    },
    {
      "cell_type": "code",
      "source": [
        "# Analisis missing value\n",
        "print(\"Analisis Missing Value:\")\n",
        "print(df.isna().sum())"
      ],
      "metadata": {
        "colab": {
          "base_uri": "https://localhost:8080/"
        },
        "id": "Owu8yLz4N6H8",
        "outputId": "a66bb053-a407-48cd-a1fb-d4d11367571e"
      },
      "execution_count": 7,
      "outputs": [
        {
          "output_type": "stream",
          "name": "stdout",
          "text": [
            "Analisis Missing Value:\n",
            "Age                          0\n",
            "BMI                          0\n",
            "Menstrual_Irregularity       0\n",
            "Testosterone_Level(ng/dL)    0\n",
            "Antral_Follicle_Count        0\n",
            "PCOS_Diagnosis               0\n",
            "dtype: int64\n"
          ]
        }
      ]
    },
    {
      "cell_type": "markdown",
      "source": [
        "- Tidak ada missing value, yang artinya data siap digunakan untuk analisis lebih lanjut."
      ],
      "metadata": {
        "id": "hZPggNSNOBc1"
      }
    },
    {
      "cell_type": "code",
      "source": [
        "# Analisis duplikasi data\n",
        "print(\"Analisis Duplikasi Data:\")\n",
        "print(df.duplicated().sum())"
      ],
      "metadata": {
        "colab": {
          "base_uri": "https://localhost:8080/"
        },
        "id": "dmZYpMTTOq0Q",
        "outputId": "60c0aa83-6e58-4388-b291-0793e93c8d36"
      },
      "execution_count": 8,
      "outputs": [
        {
          "output_type": "stream",
          "name": "stdout",
          "text": [
            "Analisis Duplikasi Data:\n",
            "0\n"
          ]
        }
      ]
    },
    {
      "cell_type": "markdown",
      "source": [
        "- Terlihat tidak ada duplikasi data artinya data bersih sekali."
      ],
      "metadata": {
        "id": "YY4ejrS1PSEx"
      }
    },
    {
      "cell_type": "code",
      "source": [
        "# Visualisaasi distribusi fitur\n",
        "print(\"Distribusi Fitur\")\n",
        "df.hist(figsize=(10, 10))\n",
        "plt.tight_layout()\n",
        "plt.show()"
      ],
      "metadata": {
        "colab": {
          "base_uri": "https://localhost:8080/",
          "height": 1000
        },
        "id": "LomAuLiDQVBV",
        "outputId": "514983c2-5df5-4c88-d131-357a138b4233"
      },
      "execution_count": 9,
      "outputs": [
        {
          "output_type": "stream",
          "name": "stdout",
          "text": [
            "Distribusi Fitur\n"
          ]
        },
        {
          "output_type": "display_data",
          "data": {
            "text/plain": [
              "<Figure size 1000x1000 with 6 Axes>"
            ],
            "image/png": "[encoded data removed]"
          },
          "metadata": {}
        }
      ]
    },
    {
      "cell_type": "markdown",
      "source": [
        "- Dilihat pada visualisasi fitur di atas, distribusi data bagus, nilainya juga masuk akal."
      ],
      "metadata": {
        "id": "d2yc4AWITwfD"
      }
    },
    {
      "cell_type": "code",
      "source": [
        "# Visualisasi box plot untuk melihat outliers\n",
        "print(\"Box Plot Fitur\")\n",
        "plt.figure(figsize=(15, 8))\n",
        "sns.boxplot(data=df, orient='h')\n",
        "plt.title(\"Box Plot Fitur\")\n",
        "plt.show()"
      ],
      "metadata": {
        "colab": {
          "base_uri": "https://localhost:8080/",
          "height": 605
        },
        "id": "tmzrpDf0WXl7",
        "outputId": "96e95cae-f443-42e1-e63e-1b44de25d090"
      },
      "execution_count": 10,
      "outputs": [
        {
          "output_type": "stream",
          "name": "stdout",
          "text": [
            "Box Plot Fitur\n"
          ]
        },
        {
          "output_type": "display_data",
          "data": {
            "text/plain": [
              "<Figure size 1500x800 with 1 Axes>"
            ],
            "image/png": "[encoded data removed]"
          },
          "metadata": {}
        }
      ]
    },
    {
      "cell_type": "markdown",
      "source": [
        "- Terlihat kadar testosteron terdapat nilai yang rentangnya lumayan jauh juga."
      ],
      "metadata": {
        "id": "iHcM9yPTYDHX"
      }
    },
    {
      "cell_type": "code",
      "source": [
        "# Visualisasi Distribusi Target ('PCOS_Diagnosis')\n",
        "print(\"PCOS Distribusi:\")\n",
        "pcos_counts = df['PCOS_Diagnosis'].value_counts()\n",
        "print(pcos_counts)\n",
        "sns.countplot(x='PCOS_Diagnosis', data=df)\n",
        "plt.title('Distribusi dari PCOS (0: Tidak PCOS, 1: PCOS)')\n",
        "plt.show()"
      ],
      "metadata": {
        "colab": {
          "base_uri": "https://localhost:8080/",
          "height": 559
        },
        "id": "O_joywlnRKMT",
        "outputId": "6eee233b-1105-41d9-90b3-fe4d2ecd72d5"
      },
      "execution_count": 11,
      "outputs": [
        {
          "output_type": "stream",
          "name": "stdout",
          "text": [
            "PCOS Distribusi:\n",
            "PCOS_Diagnosis\n",
            "0    2400\n",
            "1     600\n",
            "Name: count, dtype: int64\n"
          ]
        },
        {
          "output_type": "display_data",
          "data": {
            "text/plain": [
              "<Figure size 640x480 with 1 Axes>"
            ],
            "image/png": "[encoded data removed]"
          },
          "metadata": {}
        }
      ]
    },
    {
      "cell_type": "markdown",
      "source": [
        "- Ketimpangan jumlah distribusi data, dimana jumlah tidak terindikasi (nilai 0) lebih banyak dari jumlah yang terindikasi. Ditakutkan model memiliki kecenderungan pada kelas mayoritas."
      ],
      "metadata": {
        "id": "ffg9R5IoUsOE"
      }
    },
    {
      "cell_type": "code",
      "source": [
        "# HEatmap korelasi antar fitur\n",
        "plt.figure(figsize=(10, 6))\n",
        "sns.heatmap(df.corr(numeric_only=True), annot=True, cmap='coolwarm', fmt='.2f')\n",
        "plt.title(\"Heatmap Korelasi Antar Fitur\")\n",
        "plt.show()"
      ],
      "metadata": {
        "colab": {
          "base_uri": "https://localhost:8080/",
          "height": 712
        },
        "id": "cHhzEZgTYgY9",
        "outputId": "c7b2fcd5-c31d-4e06-a9ab-8287ca00a705"
      },
      "execution_count": 12,
      "outputs": [
        {
          "output_type": "display_data",
          "data": {
            "text/plain": [
              "<Figure size 1000x600 with 2 Axes>"
            ],
            "image/png": "[encoded data removed]"
          },
          "metadata": {}
        }
      ]
    },
    {
      "cell_type": "markdown",
      "source": [
        "- Berdasarkan matriks korelasi, terlihat fitur yang paling berkorelasi positif terhadap kemungkina terindikasi PCOS (PCOS_Diagnosis) adalah jumlah folikel antral (0.87), kadar testosteron dan ketidakteraturan mestruasi (0.78), dan indeks massa tubuh (0.29).\n",
        "- Hal ini menunjukkan bahwa jumlah folikel antral, kadar testosteron, dan ketidakteraturan mestruasi berkaitan erat dengan adanya indikasi PCOS."
      ],
      "metadata": {
        "id": "t8GQS--bYncR"
      }
    },
    {
      "cell_type": "markdown",
      "source": [
        "# Data Preparation"
      ],
      "metadata": {
        "id": "wg3MUvlwaYRA"
      }
    },
    {
      "cell_type": "code",
      "source": [
        "# Penanganan outliers\n",
        "print(\"Menangani Outliers dengan Metode IQR\")\n",
        "\n",
        "features = df.drop('PCOS_Diagnosis', axis=1).columns\n",
        "\n",
        "for column in features:\n",
        "    Q1 = df[column].quantile(0.25)\n",
        "    Q3 = df[column].quantile(0.75)\n",
        "    IQR = Q3 - Q1\n",
        "    lower_bound = Q1 - 1.5 * IQR\n",
        "    upper_bound = Q3 + 1.5 * IQR\n",
        "\n",
        "    # Hapus outlier\n",
        "    initial_lower = df[df[column] < lower_bound].shape[0]\n",
        "    initial_upper = df[df[column] > upper_bound].shape[0]\n",
        "\n",
        "    df[column] = np.where(df[column] < lower_bound, lower_bound, df[column])\n",
        "    df[column] = np.where(df[column] > upper_bound, upper_bound, df[column])\n",
        "\n",
        "    capped_lower = df[df[column] < lower_bound].shape[0] # Should be 0\n",
        "    capped_upper = df[df[column] > upper_bound].shape[0] # Should be 0\n",
        "\n",
        "    if initial_lower > 0 or initial_upper > 0:\n",
        "        print(f\"Outliers di '{column}': {initial_lower} lower, {initial_upper} upper.\")\n",
        "    else:\n",
        "        print(f\"Tidak outlier ditemukan pada '{column}'.\")\n",
        "\n",
        "\n",
        "print(\"Plotting boxplots setelah outlier\")\n",
        "plt.figure(figsize=(20, 10))\n",
        "sns.boxplot(data=df.drop('PCOS_Diagnosis', axis=1), orient='h')\n",
        "plt.title(\"Box Plot Fitur (Setelah penanganan IQR)\")\n",
        "plt.show()"
      ],
      "metadata": {
        "colab": {
          "base_uri": "https://localhost:8080/",
          "height": 684
        },
        "id": "yIDKzrbTbDYz",
        "outputId": "86d5f429-4cd0-4bac-bfa9-db5ee1a2d34b"
      },
      "execution_count": 13,
      "outputs": [
        {
          "output_type": "stream",
          "name": "stdout",
          "text": [
            "Menangani Outliers dengan Metode IQR\n",
            "Tidak outlier ditemukan pada 'Age'.\n",
            "Outliers di 'BMI': 15 lower, 58 upper.\n",
            "Tidak outlier ditemukan pada 'Menstrual_Irregularity'.\n",
            "Outliers di 'Testosterone_Level(ng/dL)': 0 lower, 190 upper.\n",
            "Outliers di 'Antral_Follicle_Count': 0 lower, 411 upper.\n",
            "Plotting boxplots setelah outlier\n"
          ]
        },
        {
          "output_type": "display_data",
          "data": {
            "text/plain": [
              "<Figure size 2000x1000 with 1 Axes>"
            ],
            "image/png": "[encoded data removed]"
          },
          "metadata": {}
        }
      ]
    },
    {
      "cell_type": "markdown",
      "source": [
        "- Outliers teratasi, distribusi datanya sudah merata."
      ],
      "metadata": {
        "id": "f00jKDCQdenV"
      }
    },
    {
      "cell_type": "markdown",
      "source": [
        "# Split Data"
      ],
      "metadata": {
        "id": "RilSaf-ZDzUq"
      }
    },
    {
      "cell_type": "code",
      "source": [
        "# Pisahkan fitur dan target\n",
        "X = df[['Age', 'BMI', 'Menstrual_Irregularity', 'Testosterone_Level(ng/dL)', 'Antral_Follicle_Count']]\n",
        "y = df['PCOS_Diagnosis']\n",
        "print(\"\\nFeatures (X) and Target (y) separated.\")\n",
        "print(\"Shape of X:\", X.shape)\n",
        "print(\"Shape of y:\", y.shape)"
      ],
      "metadata": {
        "id": "s8nFSbiF5rMN",
        "colab": {
          "base_uri": "https://localhost:8080/"
        },
        "outputId": "e269b4cb-be43-4a6d-dbad-250adb174040"
      },
      "execution_count": 14,
      "outputs": [
        {
          "output_type": "stream",
          "name": "stdout",
          "text": [
            "\n",
            "Features (X) and Target (y) separated.\n",
            "Shape of X: (3000, 5)\n",
            "Shape of y: (3000,)\n"
          ]
        }
      ]
    },
    {
      "cell_type": "code",
      "source": [
        "# Normalisasi data\n",
        "scaler = StandardScaler()\n",
        "X_scaled = scaler.fit_transform(X)\n",
        "print(\"\\nScaling data (5 baris pertama):\")\n",
        "print(X_scaled[:5])"
      ],
      "metadata": {
        "id": "HErSZakFm6NQ",
        "colab": {
          "base_uri": "https://localhost:8080/"
        },
        "outputId": "7354e3c7-01cd-4011-c652-b411b18bd3a9"
      },
      "execution_count": 15,
      "outputs": [
        {
          "output_type": "stream",
          "name": "stdout",
          "text": [
            "\n",
            "Scaling data (5 baris pertama):\n",
            "[[-0.13944963 -0.55439086 -0.63806697 -0.63534135 -0.0749124 ]\n",
            " [-1.33170419 -0.71594796 -0.63806697  0.17229339 -0.64052617]\n",
            " [-0.934286   -0.11587875 -0.63806697  0.77346511  0.11362552]\n",
            " [-1.46417692  2.09976141  1.56723361  1.28355021  1.99900476]\n",
            " [-1.46417692  0.53034963 -0.63806697 -0.43495078 -0.8290641 ]]\n"
          ]
        }
      ]
    },
    {
      "cell_type": "markdown",
      "source": [
        "- Setelah di normalisasi, rentang data ada pada 0 sampai 1, artinya normalisasi berhasil dilakukan"
      ],
      "metadata": {
        "id": "aoDNmE0gISb5"
      }
    },
    {
      "cell_type": "code",
      "source": [
        "# Split data (training 80% dan testing 20%)\n",
        "X_train, X_test, y_train, y_test = train_test_split(X_scaled, y, test_size=0.2, random_state=42)\n",
        "print(\"Train set Outcome distribution:\\n\", y_train.value_counts(normalize=True))\n",
        "print(\"Test set Outcome distribution:\\n\", y_test.value_counts(normalize=True))\n",
        "\n",
        "print(\"\\nData split menjadi training dan testing sets.\")\n",
        "print(\"X_train shape:\", X_train.shape)\n",
        "print(\"X_test shape:\", X_test.shape)\n",
        "print(\"y_train shape:\", y_train.shape)\n",
        "print(\"y_test shape:\", y_test.shape)"
      ],
      "metadata": {
        "id": "74kSZESR5rGw",
        "colab": {
          "base_uri": "https://localhost:8080/"
        },
        "outputId": "3973ac22-6b9b-449c-dd4c-5e95b50f0798"
      },
      "execution_count": 16,
      "outputs": [
        {
          "output_type": "stream",
          "name": "stdout",
          "text": [
            "Train set Outcome distribution:\n",
            " PCOS_Diagnosis\n",
            "0    0.807917\n",
            "1    0.192083\n",
            "Name: proportion, dtype: float64\n",
            "Test set Outcome distribution:\n",
            " PCOS_Diagnosis\n",
            "0    0.768333\n",
            "1    0.231667\n",
            "Name: proportion, dtype: float64\n",
            "\n",
            "Data split menjadi training dan testing sets.\n",
            "X_train shape: (2400, 5)\n",
            "X_test shape: (600, 5)\n",
            "y_train shape: (2400,)\n",
            "y_test shape: (600,)\n"
          ]
        }
      ]
    },
    {
      "cell_type": "markdown",
      "source": [
        "- Pemisahan dataset baik itu pelatihan dan pengujian yang optimal yaitu 2400 sampel untuk training dan 600 sampel untuk testing."
      ],
      "metadata": {
        "id": "ivTcrb1VhIYO"
      }
    },
    {
      "cell_type": "code",
      "source": [
        "# Penanganan data tidak seimbang\n",
        "from imblearn.over_sampling import SMOTE\n",
        "\n",
        "smote = SMOTE(random_state=42)\n",
        "X_train_resampled, y_train_resampled = smote.fit_resample(X_train, y_train)"
      ],
      "metadata": {
        "id": "9jt4gA14NAQg"
      },
      "execution_count": 17,
      "outputs": []
    },
    {
      "cell_type": "markdown",
      "source": [
        "# Modeling"
      ],
      "metadata": {
        "id": "ONe3DVlGD-DE"
      }
    },
    {
      "cell_type": "code",
      "source": [
        "print(\"Modeling\")\n",
        "\n",
        "# Model 1: Logistic Regression\n",
        "print(\"\\nTraining Logistic Regression Classifier...\")\n",
        "lr = LogisticRegression(random_state=42, solver='liblinear') # liblinear bagus untuk dataset kecil\n",
        "lr.fit(X_train_resampled, y_train_resampled)\n",
        "\n",
        "# Model 2: Random Forest\n",
        "print(\"\\nTraining Random Forest Classifier...\")\n",
        "rf = RandomForestClassifier(n_estimators=100, random_state=42)\n",
        "rf.fit(X_train_resampled, y_train_resampled)"
      ],
      "metadata": {
        "colab": {
          "base_uri": "https://localhost:8080/",
          "height": 166
        },
        "id": "2THlkaNUvQap",
        "outputId": "62839e52-01c5-4385-c37c-98db7c09daaa"
      },
      "execution_count": 18,
      "outputs": [
        {
          "output_type": "stream",
          "name": "stdout",
          "text": [
            "Modeling\n",
            "\n",
            "Training Logistic Regression Classifier...\n",
            "\n",
            "Training Random Forest Classifier...\n"
          ]
        },
        {
          "output_type": "execute_result",
          "data": {
            "text/plain": [
              "RandomForestClassifier(random_state=42)"
            ],
            "text/html": [
              "<style>#sk-container-id-1 {\n",
              "  /* Definition of color scheme common for light and dark mode */\n",
              "  --sklearn-color-text: #000;\n",
              "  --sklearn-color-text-muted: #666;\n",
              "  --sklearn-color-line: gray;\n",
              "  /* Definition of color scheme for unfitted estimators */\n",
              "  --sklearn-color-unfitted-level-0: #fff5e6;\n",
              "  --sklearn-color-unfitted-level-1: #f6e4d2;\n",
              "  --sklearn-color-unfitted-level-2: #ffe0b3;\n",
              "  --sklearn-color-unfitted-level-3: chocolate;\n",
              "  /* Definition of color scheme for fitted estimators */\n",
              "  --sklearn-color-fitted-level-0: #f0f8ff;\n",
              "  --sklearn-color-fitted-level-1: #d4ebff;\n",
              "  --sklearn-color-fitted-level-2: #b3dbfd;\n",
              "  --sklearn-color-fitted-level-3: cornflowerblue;\n",
              "\n",
              "  /* Specific color for light theme */\n",
              "  --sklearn-color-text-on-default-background: var(--sg-text-color, var(--theme-code-foreground, var(--jp-content-font-color1, black)));\n",
              "  --sklearn-color-background: var(--sg-background-color, var(--theme-background, var(--jp-layout-color0, white)));\n",
              "  --sklearn-color-border-box: var(--sg-text-color, var(--theme-code-foreground, var(--jp-content-font-color1, black)));\n",
              "  --sklearn-color-icon: #696969;\n",
              "\n",
              "  @media (prefers-color-scheme: dark) {\n",
              "    /* Redefinition of color scheme for dark theme */\n",
              "    --sklearn-color-text-on-default-background: var(--sg-text-color, var(--theme-code-foreground, var(--jp-content-font-color1, white)));\n",
              "    --sklearn-color-background: var(--sg-background-color, var(--theme-background, var(--jp-layout-color0, #111)));\n",
              "    --sklearn-color-border-box: var(--sg-text-color, var(--theme-code-foreground, var(--jp-content-font-color1, white)));\n",
              "    --sklearn-color-icon: #878787;\n",
              "  }\n",
              "}\n",
              "\n",
              "#sk-container-id-1 {\n",
              "  color: var(--sklearn-color-text);\n",
              "}\n",
              "\n",
              "#sk-container-id-1 pre {\n",
              "  padding: 0;\n",
              "}\n",
              "\n",
              "#sk-container-id-1 input.sk-hidden--visually {\n",
              "  border: 0;\n",
              "  clip: rect(1px 1px 1px 1px);\n",
              "  clip: rect(1px, 1px, 1px, 1px);\n",
              "  height: 1px;\n",
              "  margin: -1px;\n",
              "  overflow: hidden;\n",
              "  padding: 0;\n",
              "  position: absolute;\n",
              "  width: 1px;\n",
              "}\n",
              "\n",
              "#sk-container-id-1 div.sk-dashed-wrapped {\n",
              "  border: 1px dashed var(--sklearn-color-line);\n",
              "  margin: 0 0.4em 0.5em 0.4em;\n",
              "  box-sizing: border-box;\n",
              "  padding-bottom: 0.4em;\n",
              "  background-color: var(--sklearn-color-background);\n",
              "}\n",
              "\n",
              "#sk-container-id-1 div.sk-container {\n",
              "  /* jupyter's `normalize.less` sets `[hidden] { display: none; }`\n",
              "     but bootstrap.min.css set `[hidden] { display: none !important; }`\n",
              "     so we also need the `!important` here to be able to override the\n",
              "     default hidden behavior on the sphinx rendered scikit-learn.org.\n",
              "     See: https://github.com/scikit-learn/scikit-learn/issues/21755 */\n",
              "  display: inline-block !important;\n",
              "  position: relative;\n",
              "}\n",
              "\n",
              "#sk-container-id-1 div.sk-text-repr-fallback {\n",
              "  display: none;\n",
              "}\n",
              "\n",
              "div.sk-parallel-item,\n",
              "div.sk-serial,\n",
              "div.sk-item {\n",
              "  /* draw centered vertical line to link estimators */\n",
              "  background-image: linear-gradient(var(--sklearn-color-text-on-default-background), var(--sklearn-color-text-on-default-background));\n",
              "  background-size: 2px 100%;\n",
              "  background-repeat: no-repeat;\n",
              "  background-position: center center;\n",
              "}\n",
              "\n",
              "/* Parallel-specific style estimator block */\n",
              "\n",
              "#sk-container-id-1 div.sk-parallel-item::after {\n",
              "  content: \"\";\n",
              "  width: 100%;\n",
              "  border-bottom: 2px solid var(--sklearn-color-text-on-default-background);\n",
              "  flex-grow: 1;\n",
              "}\n",
              "\n",
              "#sk-container-id-1 div.sk-parallel {\n",
              "  display: flex;\n",
              "  align-items: stretch;\n",
              "  justify-content: center;\n",
              "  background-color: var(--sklearn-color-background);\n",
              "  position: relative;\n",
              "}\n",
              "\n",
              "#sk-container-id-1 div.sk-parallel-item {\n",
              "  display: flex;\n",
              "  flex-direction: column;\n",
              "}\n",
              "\n",
              "#sk-container-id-1 div.sk-parallel-item:first-child::after {\n",
              "  align-self: flex-end;\n",
              "  width: 50%;\n",
              "}\n",
              "\n",
              "#sk-container-id-1 div.sk-parallel-item:last-child::after {\n",
              "  align-self: flex-start;\n",
              "  width: 50%;\n",
              "}\n",
              "\n",
              "#sk-container-id-1 div.sk-parallel-item:only-child::after {\n",
              "  width: 0;\n",
              "}\n",
              "\n",
              "/* Serial-specific style estimator block */\n",
              "\n",
              "#sk-container-id-1 div.sk-serial {\n",
              "  display: flex;\n",
              "  flex-direction: column;\n",
              "  align-items: center;\n",
              "  background-color: var(--sklearn-color-background);\n",
              "  padding-right: 1em;\n",
              "  padding-left: 1em;\n",
              "}\n",
              "\n",
              "\n",
              "/* Toggleable style: style used for estimator/Pipeline/ColumnTransformer box that is\n",
              "clickable and can be expanded/collapsed.\n",
              "- Pipeline and ColumnTransformer use this feature and define the default style\n",
              "- Estimators will overwrite some part of the style using the `sk-estimator` class\n",
              "*/\n",
              "\n",
              "/* Pipeline and ColumnTransformer style (default) */\n",
              "\n",
              "#sk-container-id-1 div.sk-toggleable {\n",
              "  /* Default theme specific background. It is overwritten whether we have a\n",
              "  specific estimator or a Pipeline/ColumnTransformer */\n",
              "  background-color: var(--sklearn-color-background);\n",
              "}\n",
              "\n",
              "/* Toggleable label */\n",
              "#sk-container-id-1 label.sk-toggleable__label {\n",
              "  cursor: pointer;\n",
              "  display: flex;\n",
              "  width: 100%;\n",
              "  margin-bottom: 0;\n",
              "  padding: 0.5em;\n",
              "  box-sizing: border-box;\n",
              "  text-align: center;\n",
              "  align-items: start;\n",
              "  justify-content: space-between;\n",
              "  gap: 0.5em;\n",
              "}\n",
              "\n",
              "#sk-container-id-1 label.sk-toggleable__label .caption {\n",
              "  font-size: 0.6rem;\n",
              "  font-weight: lighter;\n",
              "  color: var(--sklearn-color-text-muted);\n",
              "}\n",
              "\n",
              "#sk-container-id-1 label.sk-toggleable__label-arrow:before {\n",
              "  /* Arrow on the left of the label */\n",
              "  content: \"▸\";\n",
              "  float: left;\n",
              "  margin-right: 0.25em;\n",
              "  color: var(--sklearn-color-icon);\n",
              "}\n",
              "\n",
              "#sk-container-id-1 label.sk-toggleable__label-arrow:hover:before {\n",
              "  color: var(--sklearn-color-text);\n",
              "}\n",
              "\n",
              "/* Toggleable content - dropdown */\n",
              "\n",
              "#sk-container-id-1 div.sk-toggleable__content {\n",
              "  max-height: 0;\n",
              "  max-width: 0;\n",
              "  overflow: hidden;\n",
              "  text-align: left;\n",
              "  /* unfitted */\n",
              "  background-color: var(--sklearn-color-unfitted-level-0);\n",
              "}\n",
              "\n",
              "#sk-container-id-1 div.sk-toggleable__content.fitted {\n",
              "  /* fitted */\n",
              "  background-color: var(--sklearn-color-fitted-level-0);\n",
              "}\n",
              "\n",
              "#sk-container-id-1 div.sk-toggleable__content pre {\n",
              "  margin: 0.2em;\n",
              "  border-radius: 0.25em;\n",
              "  color: var(--sklearn-color-text);\n",
              "  /* unfitted */\n",
              "  background-color: var(--sklearn-color-unfitted-level-0);\n",
              "}\n",
              "\n",
              "#sk-container-id-1 div.sk-toggleable__content.fitted pre {\n",
              "  /* unfitted */\n",
              "  background-color: var(--sklearn-color-fitted-level-0);\n",
              "}\n",
              "\n",
              "#sk-container-id-1 input.sk-toggleable__control:checked~div.sk-toggleable__content {\n",
              "  /* Expand drop-down */\n",
              "  max-height: 200px;\n",
              "  max-width: 100%;\n",
              "  overflow: auto;\n",
              "}\n",
              "\n",
              "#sk-container-id-1 input.sk-toggleable__control:checked~label.sk-toggleable__label-arrow:before {\n",
              "  content: \"▾\";\n",
              "}\n",
              "\n",
              "/* Pipeline/ColumnTransformer-specific style */\n",
              "\n",
              "#sk-container-id-1 div.sk-label input.sk-toggleable__control:checked~label.sk-toggleable__label {\n",
              "  color: var(--sklearn-color-text);\n",
              "  background-color: var(--sklearn-color-unfitted-level-2);\n",
              "}\n",
              "\n",
              "#sk-container-id-1 div.sk-label.fitted input.sk-toggleable__control:checked~label.sk-toggleable__label {\n",
              "  background-color: var(--sklearn-color-fitted-level-2);\n",
              "}\n",
              "\n",
              "/* Estimator-specific style */\n",
              "\n",
              "/* Colorize estimator box */\n",
              "#sk-container-id-1 div.sk-estimator input.sk-toggleable__control:checked~label.sk-toggleable__label {\n",
              "  /* unfitted */\n",
              "  background-color: var(--sklearn-color-unfitted-level-2);\n",
              "}\n",
              "\n",
              "#sk-container-id-1 div.sk-estimator.fitted input.sk-toggleable__control:checked~label.sk-toggleable__label {\n",
              "  /* fitted */\n",
              "  background-color: var(--sklearn-color-fitted-level-2);\n",
              "}\n",
              "\n",
              "#sk-container-id-1 div.sk-label label.sk-toggleable__label,\n",
              "#sk-container-id-1 div.sk-label label {\n",
              "  /* The background is the default theme color */\n",
              "  color: var(--sklearn-color-text-on-default-background);\n",
              "}\n",
              "\n",
              "/* On hover, darken the color of the background */\n",
              "#sk-container-id-1 div.sk-label:hover label.sk-toggleable__label {\n",
              "  color: var(--sklearn-color-text);\n",
              "  background-color: var(--sklearn-color-unfitted-level-2);\n",
              "}\n",
              "\n",
              "/* Label box, darken color on hover, fitted */\n",
              "#sk-container-id-1 div.sk-label.fitted:hover label.sk-toggleable__label.fitted {\n",
              "  color: var(--sklearn-color-text);\n",
              "  background-color: var(--sklearn-color-fitted-level-2);\n",
              "}\n",
              "\n",
              "/* Estimator label */\n",
              "\n",
              "#sk-container-id-1 div.sk-label label {\n",
              "  font-family: monospace;\n",
              "  font-weight: bold;\n",
              "  display: inline-block;\n",
              "  line-height: 1.2em;\n",
              "}\n",
              "\n",
              "#sk-container-id-1 div.sk-label-container {\n",
              "  text-align: center;\n",
              "}\n",
              "\n",
              "/* Estimator-specific */\n",
              "#sk-container-id-1 div.sk-estimator {\n",
              "  font-family: monospace;\n",
              "  border: 1px dotted var(--sklearn-color-border-box);\n",
              "  border-radius: 0.25em;\n",
              "  box-sizing: border-box;\n",
              "  margin-bottom: 0.5em;\n",
              "  /* unfitted */\n",
              "  background-color: var(--sklearn-color-unfitted-level-0);\n",
              "}\n",
              "\n",
              "#sk-container-id-1 div.sk-estimator.fitted {\n",
              "  /* fitted */\n",
              "  background-color: var(--sklearn-color-fitted-level-0);\n",
              "}\n",
              "\n",
              "/* on hover */\n",
              "#sk-container-id-1 div.sk-estimator:hover {\n",
              "  /* unfitted */\n",
              "  background-color: var(--sklearn-color-unfitted-level-2);\n",
              "}\n",
              "\n",
              "#sk-container-id-1 div.sk-estimator.fitted:hover {\n",
              "  /* fitted */\n",
              "  background-color: var(--sklearn-color-fitted-level-2);\n",
              "}\n",
              "\n",
              "/* Specification for estimator info (e.g. \"i\" and \"?\") */\n",
              "\n",
              "/* Common style for \"i\" and \"?\" */\n",
              "\n",
              ".sk-estimator-doc-link,\n",
              "a:link.sk-estimator-doc-link,\n",
              "a:visited.sk-estimator-doc-link {\n",
              "  float: right;\n",
              "  font-size: smaller;\n",
              "  line-height: 1em;\n",
              "  font-family: monospace;\n",
              "  background-color: var(--sklearn-color-background);\n",
              "  border-radius: 1em;\n",
              "  height: 1em;\n",
              "  width: 1em;\n",
              "  text-decoration: none !important;\n",
              "  margin-left: 0.5em;\n",
              "  text-align: center;\n",
              "  /* unfitted */\n",
              "  border: var(--sklearn-color-unfitted-level-1) 1pt solid;\n",
              "  color: var(--sklearn-color-unfitted-level-1);\n",
              "}\n",
              "\n",
              ".sk-estimator-doc-link.fitted,\n",
              "a:link.sk-estimator-doc-link.fitted,\n",
              "a:visited.sk-estimator-doc-link.fitted {\n",
              "  /* fitted */\n",
              "  border: var(--sklearn-color-fitted-level-1) 1pt solid;\n",
              "  color: var(--sklearn-color-fitted-level-1);\n",
              "}\n",
              "\n",
              "/* On hover */\n",
              "div.sk-estimator:hover .sk-estimator-doc-link:hover,\n",
              ".sk-estimator-doc-link:hover,\n",
              "div.sk-label-container:hover .sk-estimator-doc-link:hover,\n",
              ".sk-estimator-doc-link:hover {\n",
              "  /* unfitted */\n",
              "  background-color: var(--sklearn-color-unfitted-level-3);\n",
              "  color: var(--sklearn-color-background);\n",
              "  text-decoration: none;\n",
              "}\n",
              "\n",
              "div.sk-estimator.fitted:hover .sk-estimator-doc-link.fitted:hover,\n",
              ".sk-estimator-doc-link.fitted:hover,\n",
              "div.sk-label-container:hover .sk-estimator-doc-link.fitted:hover,\n",
              ".sk-estimator-doc-link.fitted:hover {\n",
              "  /* fitted */\n",
              "  background-color: var(--sklearn-color-fitted-level-3);\n",
              "  color: var(--sklearn-color-background);\n",
              "  text-decoration: none;\n",
              "}\n",
              "\n",
              "/* Span, style for the box shown on hovering the info icon */\n",
              ".sk-estimator-doc-link span {\n",
              "  display: none;\n",
              "  z-index: 9999;\n",
              "  position: relative;\n",
              "  font-weight: normal;\n",
              "  right: .2ex;\n",
              "  padding: .5ex;\n",
              "  margin: .5ex;\n",
              "  width: min-content;\n",
              "  min-width: 20ex;\n",
              "  max-width: 50ex;\n",
              "  color: var(--sklearn-color-text);\n",
              "  box-shadow: 2pt 2pt 4pt #999;\n",
              "  /* unfitted */\n",
              "  background: var(--sklearn-color-unfitted-level-0);\n",
              "  border: .5pt solid var(--sklearn-color-unfitted-level-3);\n",
              "}\n",
              "\n",
              ".sk-estimator-doc-link.fitted span {\n",
              "  /* fitted */\n",
              "  background: var(--sklearn-color-fitted-level-0);\n",
              "  border: var(--sklearn-color-fitted-level-3);\n",
              "}\n",
              "\n",
              ".sk-estimator-doc-link:hover span {\n",
              "  display: block;\n",
              "}\n",
              "\n",
              "/* \"?\"-specific style due to the `<a>` HTML tag */\n",
              "\n",
              "#sk-container-id-1 a.estimator_doc_link {\n",
              "  float: right;\n",
              "  font-size: 1rem;\n",
              "  line-height: 1em;\n",
              "  font-family: monospace;\n",
              "  background-color: var(--sklearn-color-background);\n",
              "  border-radius: 1rem;\n",
              "  height: 1rem;\n",
              "  width: 1rem;\n",
              "  text-decoration: none;\n",
              "  /* unfitted */\n",
              "  color: var(--sklearn-color-unfitted-level-1);\n",
              "  border: var(--sklearn-color-unfitted-level-1) 1pt solid;\n",
              "}\n",
              "\n",
              "#sk-container-id-1 a.estimator_doc_link.fitted {\n",
              "  /* fitted */\n",
              "  border: var(--sklearn-color-fitted-level-1) 1pt solid;\n",
              "  color: var(--sklearn-color-fitted-level-1);\n",
              "}\n",
              "\n",
              "/* On hover */\n",
              "#sk-container-id-1 a.estimator_doc_link:hover {\n",
              "  /* unfitted */\n",
              "  background-color: var(--sklearn-color-unfitted-level-3);\n",
              "  color: var(--sklearn-color-background);\n",
              "  text-decoration: none;\n",
              "}\n",
              "\n",
              "#sk-container-id-1 a.estimator_doc_link.fitted:hover {\n",
              "  /* fitted */\n",
              "  background-color: var(--sklearn-color-fitted-level-3);\n",
              "}\n",
              "</style><div id=\"sk-container-id-1\" class=\"sk-top-container\"><div class=\"sk-text-repr-fallback\"><pre>RandomForestClassifier(random_state=42)</pre><b>In a Jupyter environment, please rerun this cell to show the HTML representation or trust the notebook. <br />On GitHub, the HTML representation is unable to render, please try loading this page with nbviewer.org.</b></div><div class=\"sk-container\" hidden><div class=\"sk-item\"><div class=\"sk-estimator fitted sk-toggleable\"><input class=\"sk-toggleable__control sk-hidden--visually\" id=\"sk-estimator-id-1\" type=\"checkbox\" checked><label for=\"sk-estimator-id-1\" class=\"sk-toggleable__label fitted sk-toggleable__label-arrow\"><div><div>RandomForestClassifier</div></div><div><a class=\"sk-estimator-doc-link fitted\" rel=\"noreferrer\" target=\"_blank\" href=\"https://scikit-learn.org/1.6/modules/generated/sklearn.ensemble.RandomForestClassifier.html\">?<span>Documentation for RandomForestClassifier</span></a><span class=\"sk-estimator-doc-link fitted\">i<span>Fitted</span></span></div></label><div class=\"sk-toggleable__content fitted\"><pre>RandomForestClassifier(random_state=42)</pre></div> </div></div></div></div>"
            ]
          },
          "metadata": {},
          "execution_count": 18
        }
      ]
    },
    {
      "cell_type": "code",
      "source": [
        "# Hyperparameter Tuning untuk model terpilih ( Random Forest)\n",
        "print(\"\\nHyperparameter Tuning Untuk Random Forest Menggunakan GridSearchCV\")\n",
        "\n",
        "# Tentukan parameter grid yang lebih kecil untuk contoh cepat\n",
        "param_grid_rf = {\n",
        "    'n_estimators': [50, 100, 150],\n",
        "    'max_depth': [None, 10, 20],\n",
        "    'min_samples_split': [2, 5],\n",
        "    'min_samples_leaf': [1, 3]\n",
        "}\n",
        "\n",
        "# Gunakan cross-validation 3-fold saja untuk contoh\n",
        "rf_grid = GridSearchCV(estimator=RandomForestClassifier(random_state=42),\n",
        "                       param_grid=param_grid_rf,\n",
        "                       cv=3,\n",
        "                       n_jobs=-1,\n",
        "                       verbose=1,\n",
        "                       scoring='accuracy')\n",
        "\n",
        "rf_grid.fit(X_train_resampled, y_train_resampled)\n",
        "\n",
        "print(\"\\nParameter Terbaik dari Random Forest:\")\n",
        "print(rf_grid.best_params_)\n",
        "\n",
        "# Model terbaik dari GridSearchCV\n",
        "best_rf = rf_grid.best_estimator_\n",
        "print(\"\\nModel Pelatihan Terbaik Random Forest dengan Parameter Optimal.\")\n"
      ],
      "metadata": {
        "colab": {
          "base_uri": "https://localhost:8080/"
        },
        "id": "0w9DkyCF70tp",
        "outputId": "1ab16cb3-b646-46b7-d01a-2d9fe63c5b6c"
      },
      "execution_count": 19,
      "outputs": [
        {
          "output_type": "stream",
          "name": "stdout",
          "text": [
            "\n",
            "Hyperparameter Tuning Untuk Random Forest Menggunakan GridSearchCV\n",
            "Fitting 3 folds for each of 36 candidates, totalling 108 fits\n",
            "\n",
            "Parameter Terbaik dari Random Forest:\n",
            "{'max_depth': None, 'min_samples_leaf': 1, 'min_samples_split': 2, 'n_estimators': 50}\n",
            "\n",
            "Model Pelatihan Terbaik Random Forest dengan Parameter Optimal.\n"
          ]
        }
      ]
    },
    {
      "cell_type": "markdown",
      "source": [
        "# Evaluation"
      ],
      "metadata": {
        "id": "j20eCoL2larO"
      }
    },
    {
      "cell_type": "code",
      "source": [
        "# Evaluasi metrik\n",
        "def evaluate_model(y_true, y_pred, model_name):\n",
        "    print(f\"\\n--- {model_name} Evaluation ---\")\n",
        "    accuracy = accuracy_score(y_true, y_pred)\n",
        "    precision = precision_score(y_true, y_pred, zero_division=0) # Menangani kasus dengan tidak ada prediksi positif\n",
        "    recall = recall_score(y_true, y_pred, zero_division=0)       # Menangani kasus dengan tidak ada positif sebenarnya\n",
        "    f1 = f1_score(y_true, y_pred, zero_division=0)               # Menangani kasus dengan tidak ada positif\n",
        "    mse = mean_squared_error(y_true, y_pred) # MSE untuk klasifikasi (0/1 labels)\n",
        "\n",
        "    print(f\"Accuracy: {accuracy:.4f}\")\n",
        "    print(f\"Precision: {precision:.4f}\")\n",
        "    print(f\"Recall: {recall:.4f}\")\n",
        "    print(f\"F1 Score: {f1:.4f}\")\n",
        "    print(f\"Mean Squared Error (MSE): {mse:.4f}\") # tambah MSE\n",
        "\n",
        "    print(f\"\\nConfusion Matrix ({model_name}):\")\n",
        "    cm = confusion_matrix(y_true, y_pred)\n",
        "    sns.heatmap(cm, annot=True, fmt='d', cmap='Blues' if 'Logistic Regression' in model_name else ('Greens' if 'Base RF' in model_name else ('Oranges' if 'Tuned RF' in model_name else 'Purples')))\n",
        "    plt.xlabel('Predicted')\n",
        "    plt.ylabel('Actual')\n",
        "    plt.title(f'Confusion Matrix - {model_name}')\n",
        "    plt.show()\n",
        "    print(f\"\\nClassification Report ({model_name}):\")\n",
        "    print(classification_report(y_true, y_pred, zero_division=0))\n",
        "    return accuracy, precision, recall, f1, mse"
      ],
      "metadata": {
        "id": "3HbExFK1lflU"
      },
      "execution_count": 20,
      "outputs": []
    },
    {
      "cell_type": "code",
      "source": [
        "# Evaluasi Model Logistic Regression\n",
        "y_pred_lr = lr.predict(X_test)\n",
        "acc_lr, pre_lr, rec_lr, f1_lr, mse_lr = evaluate_model(y_test, y_pred_lr, \"Logistic Regression\")"
      ],
      "metadata": {
        "colab": {
          "base_uri": "https://localhost:8080/",
          "height": 819
        },
        "id": "P4SEd2Vy-lKJ",
        "outputId": "68c01156-bb48-4a28-e3f7-036e4a4a8448"
      },
      "execution_count": 21,
      "outputs": [
        {
          "output_type": "stream",
          "name": "stdout",
          "text": [
            "\n",
            "--- Logistic Regression Evaluation ---\n",
            "Accuracy: 0.9983\n",
            "Precision: 1.0000\n",
            "Recall: 0.9928\n",
            "F1 Score: 0.9964\n",
            "Mean Squared Error (MSE): 0.0017\n",
            "\n",
            "Confusion Matrix (Logistic Regression):\n"
          ]
        },
        {
          "output_type": "display_data",
          "data": {
            "text/plain": [
              "<Figure size 640x480 with 2 Axes>"
            ],
            "image/png": "[encoded data removed]"
          },
          "metadata": {}
        },
        {
          "output_type": "stream",
          "name": "stdout",
          "text": [
            "\n",
            "Classification Report (Logistic Regression):\n",
            "              precision    recall  f1-score   support\n",
            "\n",
            "           0       1.00      1.00      1.00       461\n",
            "           1       1.00      0.99      1.00       139\n",
            "\n",
            "    accuracy                           1.00       600\n",
            "   macro avg       1.00      1.00      1.00       600\n",
            "weighted avg       1.00      1.00      1.00       600\n",
            "\n"
          ]
        }
      ]
    },
    {
      "cell_type": "code",
      "source": [
        "# Evaluasi Model Random Forest (Baseline)\n",
        "y_pred_rf_base = rf.predict(X_test)\n",
        "acc_rf_base, pre_rf_base, rec_rf_base, f1_rf_base, mse_rf_base = evaluate_model(y_test, y_pred_rf_base, \"Random Forest (Baseline)\")"
      ],
      "metadata": {
        "colab": {
          "base_uri": "https://localhost:8080/",
          "height": 819
        },
        "id": "yW1qqB-m-fdW",
        "outputId": "57340e99-5170-4b41-9b5a-64af13899b6e"
      },
      "execution_count": 22,
      "outputs": [
        {
          "output_type": "stream",
          "name": "stdout",
          "text": [
            "\n",
            "--- Random Forest (Baseline) Evaluation ---\n",
            "Accuracy: 1.0000\n",
            "Precision: 1.0000\n",
            "Recall: 1.0000\n",
            "F1 Score: 1.0000\n",
            "Mean Squared Error (MSE): 0.0000\n",
            "\n",
            "Confusion Matrix (Random Forest (Baseline)):\n"
          ]
        },
        {
          "output_type": "display_data",
          "data": {
            "text/plain": [
              "<Figure size 640x480 with 2 Axes>"
            ],
            "image/png": "[encoded data removed]"
          },
          "metadata": {}
        },
        {
          "output_type": "stream",
          "name": "stdout",
          "text": [
            "\n",
            "Classification Report (Random Forest (Baseline)):\n",
            "              precision    recall  f1-score   support\n",
            "\n",
            "           0       1.00      1.00      1.00       461\n",
            "           1       1.00      1.00      1.00       139\n",
            "\n",
            "    accuracy                           1.00       600\n",
            "   macro avg       1.00      1.00      1.00       600\n",
            "weighted avg       1.00      1.00      1.00       600\n",
            "\n"
          ]
        }
      ]
    },
    {
      "cell_type": "code",
      "source": [
        "# Evaluasi Model Random Forest (Tuned)\n",
        "y_pred_rf_tuned = best_rf.predict(X_test)\n",
        "acc_rf_tuned, pre_rf_tuned, rec_rf_tuned, f1_rf_tuned, mse_rf_tuned = evaluate_model(y_test, y_pred_rf_tuned, \"Random Forest (Tuned)\")"
      ],
      "metadata": {
        "colab": {
          "base_uri": "https://localhost:8080/",
          "height": 819
        },
        "id": "1wV3g7hT-iid",
        "outputId": "35319b69-7fd9-422b-d17a-369b098720b8"
      },
      "execution_count": 23,
      "outputs": [
        {
          "output_type": "stream",
          "name": "stdout",
          "text": [
            "\n",
            "--- Random Forest (Tuned) Evaluation ---\n",
            "Accuracy: 1.0000\n",
            "Precision: 1.0000\n",
            "Recall: 1.0000\n",
            "F1 Score: 1.0000\n",
            "Mean Squared Error (MSE): 0.0000\n",
            "\n",
            "Confusion Matrix (Random Forest (Tuned)):\n"
          ]
        },
        {
          "output_type": "display_data",
          "data": {
            "text/plain": [
              "<Figure size 640x480 with 2 Axes>"
            ],
            "image/png": "[encoded data removed]"
          },
          "metadata": {}
        },
        {
          "output_type": "stream",
          "name": "stdout",
          "text": [
            "\n",
            "Classification Report (Random Forest (Tuned)):\n",
            "              precision    recall  f1-score   support\n",
            "\n",
            "           0       1.00      1.00      1.00       461\n",
            "           1       1.00      1.00      1.00       139\n",
            "\n",
            "    accuracy                           1.00       600\n",
            "   macro avg       1.00      1.00      1.00       600\n",
            "weighted avg       1.00      1.00      1.00       600\n",
            "\n"
          ]
        }
      ]
    },
    {
      "cell_type": "markdown",
      "source": [
        "# Kesimpulan Evaluasi"
      ],
      "metadata": {
        "id": "3265j3Ax--BL"
      }
    },
    {
      "cell_type": "code",
      "source": [
        "print(\"\\n=== Evaluation Summary ===\")\n",
        "\n",
        "results_summary = pd.DataFrame({\n",
        "    'Model': ['Logistic Regression', 'Random Forest (Baseline)', 'Random Forest (Tuned)'],\n",
        "    'Accuracy': [acc_lr, acc_rf_base, acc_rf_tuned],\n",
        "    'Precision': [pre_lr, pre_rf_base, pre_rf_tuned],\n",
        "    'Recall': [rec_lr, rec_rf_base, rec_rf_tuned],\n",
        "    'F1 Score': [f1_lr, f1_rf_base, f1_rf_tuned],\n",
        "    'MSE': [mse_lr, mse_rf_base, mse_rf_tuned]\n",
        "})\n",
        "\n",
        "print(\"\\nMetrik Performa Model:\")\n",
        "print(results_summary.round(4)) # dibulatkan 4 angka desimal\n",
        "\n",
        "print(\"\\nMembandingkan model berdasarkan F1-Score :\")\n",
        "best_f1_model = results_summary.loc[results_summary['F1 Score'].idxmax()]\n",
        "print(f\"Performa model terbaik berdasarkan F1-Score:\\n{best_f1_model['Model']} with F1-Score: {best_f1_model['F1 Score']:.4f}\")\n",
        "\n",
        "print(\"\\nMembandingkan model berdasarkan Recall:\")\n",
        "best_recall_model = results_summary.loc[results_summary['Recall'].idxmax()]\n",
        "print(f\"Performal model terbaik berdasarkan Recall:\\n{best_recall_model['Model']} with Recall: {best_recall_model['Recall']:.4f}\")\n",
        "\n",
        "print(\"\\nMembandingkan model berdasarkan MSE:\")\n",
        "best_mse_model = results_summary.loc[results_summary['MSE'].idxmin()] # Lower MSE is better\n",
        "print(f\"Model dengan MSE terkecil:\\n{best_mse_model['Model']} with MSE: {best_mse_model['MSE']:.4f}\")\n",
        "\n",
        "\n",
        "print(\"\\nProyek Selesai.\")"
      ],
      "metadata": {
        "colab": {
          "base_uri": "https://localhost:8080/"
        },
        "id": "7MdSrUVm-_6q",
        "outputId": "9f08a7f5-7e15-4f46-8ec4-81549c68ef73"
      },
      "execution_count": 24,
      "outputs": [
        {
          "output_type": "stream",
          "name": "stdout",
          "text": [
            "\n",
            "=== Evaluation Summary ===\n",
            "\n",
            "Metrik Performa Model:\n",
            "                      Model  Accuracy  Precision  Recall  F1 Score     MSE\n",
            "0       Logistic Regression    0.9983        1.0  0.9928    0.9964  0.0017\n",
            "1  Random Forest (Baseline)    1.0000        1.0  1.0000    1.0000  0.0000\n",
            "2     Random Forest (Tuned)    1.0000        1.0  1.0000    1.0000  0.0000\n",
            "\n",
            "Membandingkan model berdasarkan F1-Score :\n",
            "Performa model terbaik berdasarkan F1-Score:\n",
            "Random Forest (Baseline) with F1-Score: 1.0000\n",
            "\n",
            "Membandingkan model berdasarkan Recall:\n",
            "Performal model terbaik berdasarkan Recall:\n",
            "Random Forest (Baseline) with Recall: 1.0000\n",
            "\n",
            "Membandingkan model berdasarkan MSE:\n",
            "Model dengan MSE terkecil:\n",
            "Random Forest (Baseline) with MSE: 0.0000\n",
            "\n",
            "Proyek Selesai.\n"
          ]
        }
      ]
    },
    {
      "cell_type": "markdown",
      "source": [
        "- Hasil evaluasi mode di atas, terlihat kemungkinan model overfitting karena hasilnya sempurna (1.00) artinya model hanya menghafal data dan tidak dapat mengenali pola dengan baik."
      ],
      "metadata": {
        "id": "Su8bBkUFImmc"
      }
    },
    {
      "cell_type": "code",
      "source": [],
      "metadata": {
        "id": "KMp0Xi4k5qmp"
      },
      "execution_count": 24,
      "outputs": []
    }
  ]
}